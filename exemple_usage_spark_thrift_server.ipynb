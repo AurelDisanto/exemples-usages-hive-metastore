{
 "cells": [
  {
   "cell_type": "code",
   "execution_count": null,
   "id": "83323e85-ba38-4a56-a2ad-c013e94ca1d7",
   "metadata": {},
   "outputs": [],
   "source": [
    "!pip install hivejdbc"
   ]
  },
  {
   "cell_type": "code",
   "execution_count": null,
   "id": "ddb750f0-f10a-4841-b774-33e0ca383a98",
   "metadata": {},
   "outputs": [],
   "source": [
    "from hivejdbc import connect\n",
    "# get hive version in order to set the driver\n",
    "import re"
   ]
  },
  {
   "cell_type": "code",
   "execution_count": null,
   "id": "5e907a81-8916-4f07-a64f-308949326180",
   "metadata": {},
   "outputs": [],
   "source": [
    "with open('/opt/hive/RELEASE_NOTES.txt') as f:\n",
    "    file_content = f.read()\n",
    "version = re.search(r'\\bVersion (\\d+\\.\\d+\\.\\d+)', file_content).group(1)\n",
    "\n",
    "conn = connect('spark-thrift-server-685280', database='default', driver=f'/opt/hive/jdbc/hive-jdbc-{version}-standalone.jar')"
   ]
  },
  {
   "cell_type": "code",
   "execution_count": null,
   "id": "bc2505bd-712b-4ea0-8e89-4a9ce6c347bd",
   "metadata": {},
   "outputs": [],
   "source": [
    "with conn.cursor() as cursor:\n",
    "    cursor.execute('select count(*) from fichier1')\n",
    "    rows = cursor.fetchone()\n",
    "    print(rows[0])"
   ]
  },
  {
   "cell_type": "code",
   "execution_count": null,
   "id": "daaa0735-93e6-4948-b8d2-0c6d0f5e2878",
   "metadata": {},
   "outputs": [],
   "source": [
    "with conn.cursor() as cursor:\n",
    "    cursor.execute('select * from fichier1 WHERE identifiant in (\"24\",\"65\")')\n",
    "    rows = cursor.fetchone()\n",
    "    print(rows)"
   ]
  }
 ],
 "metadata": {
  "kernelspec": {
   "display_name": "Python 3 (ipykernel)",
   "language": "python",
   "name": "python3"
  },
  "language_info": {
   "codemirror_mode": {
    "name": "ipython",
    "version": 3
   },
   "file_extension": ".py",
   "mimetype": "text/x-python",
   "name": "python",
   "nbconvert_exporter": "python",
   "pygments_lexer": "ipython3",
   "version": "3.10.13"
  }
 },
 "nbformat": 4,
 "nbformat_minor": 5
}
