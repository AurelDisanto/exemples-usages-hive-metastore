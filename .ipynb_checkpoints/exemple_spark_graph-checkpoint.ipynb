{
 "cells": [
  {
   "cell_type": "code",
   "execution_count": 17,
   "id": "c17f4a41-121d-4ee7-8d9c-43ba5f414499",
   "metadata": {},
   "outputs": [
    {
     "name": "stdout",
     "output_type": "stream",
     "text": [
      "Requirement already satisfied: graphframes in /opt/mamba/lib/python3.10/site-packages (0.6)\n",
      "Requirement already satisfied: numpy in /opt/mamba/lib/python3.10/site-packages (from graphframes) (1.26.4)\n",
      "Requirement already satisfied: nose in /opt/mamba/lib/python3.10/site-packages (from graphframes) (1.3.7)\n"
     ]
    }
   ],
   "source": [
    "!pip install graphframes"
   ]
  },
  {
   "cell_type": "code",
   "execution_count": 18,
   "id": "a45651fd-2745-4532-9183-af99c1037681",
   "metadata": {},
   "outputs": [],
   "source": [
    "from pyspark.sql import SparkSession\n",
    "from pyspark import SparkConf, SparkContext\n",
    "import os\n",
    "from graphframes import *\n",
    "import pickle\n",
    "from pyspark.sql.functions import col,explode,size,first\n",
    "from pyspark.sql.functions import udf, collect_list\n",
    "from pyspark.sql.functions import count,collect_list,flatten\n",
    "from pyspark.sql.functions import desc"
   ]
  },
  {
   "cell_type": "code",
   "execution_count": 19,
   "id": "0e85e842-9401-4ec9-8545-5399c40d6b5c",
   "metadata": {},
   "outputs": [
    {
     "data": {
      "text/plain": [
       "<pyspark.conf.SparkConf at 0x7f9575ddcb80>"
      ]
     },
     "execution_count": 19,
     "metadata": {},
     "output_type": "execute_result"
    }
   ],
   "source": [
    "conf = SparkConf()\n",
    "\n",
    "#url par défaut d'une api kubernetes accédé depuis l'intérieur du cluster (ici le notebook tourne lui même dans kubernetes)\n",
    "conf.setMaster(\"k8s://https://kubernetes.default.svc:443\")\n",
    "\n",
    "#image des executors spark: pour des raisons de simplicité on réutilise l'image du notebook\n",
    "conf.set(\"spark.kubernetes.container.image\", os.environ['IMAGE_NAME'])\n",
    "\n",
    "# Nom du compte de service pour contacter l'api kubernetes : attention le package du datalab crée lui même cette variable d'enviromment.\n",
    "# Dans un pod du cluster kubernetes il faut lire le fichier /var/run/secrets/kubernetes.io/serviceaccount/token\n",
    "# Néanmoins ce paramètre est inutile car le contexte kubernetes local de ce notebook est préconfiguré\n",
    "# conf.set(\"spark.kubernetes.authenticate.driver.serviceAccountName\", os.environ['KUBERNETES_SERVICE_ACCOUNT']) \n",
    "\n",
    "# Nom du namespace kubernetes\n",
    "conf.set(\"spark.kubernetes.namespace\", os.environ['KUBERNETES_NAMESPACE'])\n",
    "\n",
    "# Nombre d'executeur spark, il se lancera autant de pods kubernetes que le nombre indiqué.\n",
    "conf.set(\"spark.executor.instances\", \"10\")\n",
    "\n",
    "# Mémoire alloué à la JVM\n",
    "# Attention par défaut le pod kubernetes aura une limite supérieur qui dépend d'autres paramètres.\n",
    "# On manipulera plus bas pour vérifier la limite de mémoire totale d'un executeur\n",
    "conf.set(\"spark.executor.memory\", \"4g\")\n",
    "\n",
    "conf.set(\"spark.kubernetes.driver.pod.name\", os.environ['KUBERNETES_POD_NAME'])\n",
    "\n",
    "# Paramètres d'enregistrement des logs spark d'application\n",
    "# Attention ce paramètres nécessitent la création d'un dossier spark-history. Spark ne le fait pas lui même pour des raisons obscurs\n",
    "# import s3fs\n",
    "# endpoint = \"https://\"+os.environ['AWS_S3_ENDPOINT']\n",
    "# fs = s3fs.S3FileSystem(client_kwargs={'endpoint_url': endpoint})\n",
    "# fs.touch('s3://tm8enk/spark-history/.keep')\n",
    "# sparkconf.set(\"spark.eventLog.enabled\",\"true\")\n",
    "# sparkconf.set(\"spark.eventLog.dir\",\"s3a://tm8enk/spark-history\")\n",
    "#ici pour gérer le dateTimeFormatter dépendant de la verion de java...\n",
    "conf.set(\"spark.sql.legacy.timeParserPolicy\",\"LEGACY\")\n",
    "conf.set(\"spark.default.parallelism\",10)\n",
    "conf.set(\"spark.sql.shuffle.partitions\",10)\n",
    "conf.set(\"spark.jars.packages\",\"graphframes:graphframes:0.8.1-spark3.0-s_2.12\")"
   ]
  },
  {
   "cell_type": "code",
   "execution_count": 20,
   "id": "e6745c2c-034a-4081-8f30-c30d1e90e116",
   "metadata": {},
   "outputs": [],
   "source": [
    "spark = SparkSession.builder.appName(\"graph\").config(conf = conf).getOrCreate()"
   ]
  },
  {
   "cell_type": "code",
   "execution_count": 21,
   "id": "2915f403-724b-4a19-911c-7a16d3b8b1cf",
   "metadata": {},
   "outputs": [],
   "source": [
    "vertices = [(1,\"A\"), (2,\"B\"), (3, \"C\")]\n",
    "edges = [(1,2,\"love\"), (2,1,\"hate\"), (2,3,\"follow\")]\n",
    "\n",
    "v = spark.createDataFrame(vertices, [\"id\", \"name\"])\n",
    "e = spark.createDataFrame(edges, [\"src\", \"dst\", \"action\"])\n",
    "\n",
    "premierGraphe = GraphFrame(v, e)\n",
    "premierGraphe.edges.show()"
   ]
  },
  {
   "cell_type": "code",
   "execution_count": 23,
   "id": "af7beed6-9b7a-42f7-9cda-c5dce7377223",
   "metadata": {},
   "outputs": [
    {
     "name": "stdout",
     "output_type": "stream",
     "text": [
      "StructType([StructField('contributors', StringType(), True), StructField('coordinates', StringType(), True), StructField('created_at', StringType(), True), StructField('display_text_range', ArrayType(LongType(), True), True), StructField('entities', StructType([StructField('hashtags', ArrayType(StructType([StructField('indices', ArrayType(LongType(), True), True), StructField('text', StringType(), True)]), True), True), StructField('media', ArrayType(StructType([StructField('additional_media_info', StructType([StructField('monetizable', BooleanType(), True)]), True), StructField('description', StringType(), True), StructField('display_url', StringType(), True), StructField('expanded_url', StringType(), True), StructField('id', LongType(), True), StructField('id_str', StringType(), True), StructField('indices', ArrayType(LongType(), True), True), StructField('media_url', StringType(), True), StructField('media_url_https', StringType(), True), StructField('sizes', StructType([StructField('large', StructType([StructField('h', LongType(), True), StructField('resize', StringType(), True), StructField('w', LongType(), True)]), True), StructField('medium', StructType([StructField('h', LongType(), True), StructField('resize', StringType(), True), StructField('w', LongType(), True)]), True), StructField('small', StructType([StructField('h', LongType(), True), StructField('resize', StringType(), True), StructField('w', LongType(), True)]), True), StructField('thumb', StructType([StructField('h', LongType(), True), StructField('resize', StringType(), True), StructField('w', LongType(), True)]), True)]), True), StructField('source_status_id', LongType(), True), StructField('source_status_id_str', StringType(), True), StructField('source_user_id', LongType(), True), StructField('source_user_id_str', StringType(), True), StructField('type', StringType(), True), StructField('url', StringType(), True)]), True), True), StructField('symbols', ArrayType(StructType([StructField('indices', ArrayType(LongType(), True), True), StructField('text', StringType(), True)]), True), True), StructField('urls', ArrayType(StructType([StructField('display_url', StringType(), True), StructField('expanded_url', StringType(), True), StructField('indices', ArrayType(LongType(), True), True), StructField('url', StringType(), True)]), True), True), StructField('user_mentions', ArrayType(StructType([StructField('id', LongType(), True), StructField('id_str', StringType(), True), StructField('indices', ArrayType(LongType(), True), True), StructField('name', StringType(), True), StructField('screen_name', StringType(), True)]), True), True)]), True), StructField('extended_entities', StructType([StructField('media', ArrayType(StructType([StructField('additional_media_info', StructType([StructField('monetizable', BooleanType(), True)]), True), StructField('description', StringType(), True), StructField('display_url', StringType(), True), StructField('expanded_url', StringType(), True), StructField('id', LongType(), True), StructField('id_str', StringType(), True), StructField('indices', ArrayType(LongType(), True), True), StructField('media_url', StringType(), True), StructField('media_url_https', StringType(), True), StructField('sizes', StructType([StructField('large', StructType([StructField('h', LongType(), True), StructField('resize', StringType(), True), StructField('w', LongType(), True)]), True), StructField('medium', StructType([StructField('h', LongType(), True), StructField('resize', StringType(), True), StructField('w', LongType(), True)]), True), StructField('small', StructType([StructField('h', LongType(), True), StructField('resize', StringType(), True), StructField('w', LongType(), True)]), True), StructField('thumb', StructType([StructField('h', LongType(), True), StructField('resize', StringType(), True), StructField('w', LongType(), True)]), True)]), True), StructField('source_status_id', LongType(), True), StructField('source_status_id_str', StringType(), True), StructField('source_user_id', LongType(), True), StructField('source_user_id_str', StringType(), True), StructField('type', StringType(), True), StructField('url', StringType(), True), StructField('video_info', StructType([StructField('aspect_ratio', ArrayType(LongType(), True), True), StructField('duration_millis', LongType(), True), StructField('variants', ArrayType(StructType([StructField('bitrate', LongType(), True), StructField('content_type', StringType(), True), StructField('url', StringType(), True)]), True), True)]), True)]), True), True)]), True), StructField('extended_tweet', StructType([StructField('display_text_range', ArrayType(LongType(), True), True), StructField('entities', StructType([StructField('hashtags', ArrayType(StructType([StructField('indices', ArrayType(LongType(), True), True), StructField('text', StringType(), True)]), True), True), StructField('media', ArrayType(StructType([StructField('additional_media_info', StructType([StructField('monetizable', BooleanType(), True)]), True), StructField('display_url', StringType(), True), StructField('expanded_url', StringType(), True), StructField('id', LongType(), True), StructField('id_str', StringType(), True), StructField('indices', ArrayType(LongType(), True), True), StructField('media_url', StringType(), True), StructField('media_url_https', StringType(), True), StructField('sizes', StructType([StructField('large', StructType([StructField('h', LongType(), True), StructField('resize', StringType(), True), StructField('w', LongType(), True)]), True), StructField('medium', StructType([StructField('h', LongType(), True), StructField('resize', StringType(), True), StructField('w', LongType(), True)]), True), StructField('small', StructType([StructField('h', LongType(), True), StructField('resize', StringType(), True), StructField('w', LongType(), True)]), True), StructField('thumb', StructType([StructField('h', LongType(), True), StructField('resize', StringType(), True), StructField('w', LongType(), True)]), True)]), True), StructField('source_status_id', LongType(), True), StructField('source_status_id_str', StringType(), True), StructField('source_user_id', LongType(), True), StructField('source_user_id_str', StringType(), True), StructField('type', StringType(), True), StructField('url', StringType(), True), StructField('video_info', StructType([StructField('aspect_ratio', ArrayType(LongType(), True), True), StructField('duration_millis', LongType(), True), StructField('variants', ArrayType(StructType([StructField('bitrate', LongType(), True), StructField('content_type', StringType(), True), StructField('url', StringType(), True)]), True), True)]), True)]), True), True), StructField('symbols', ArrayType(StringType(), True), True), StructField('urls', ArrayType(StructType([StructField('display_url', StringType(), True), StructField('expanded_url', StringType(), True), StructField('indices', ArrayType(LongType(), True), True), StructField('url', StringType(), True)]), True), True), StructField('user_mentions', ArrayType(StructType([StructField('id', LongType(), True), StructField('id_str', StringType(), True), StructField('indices', ArrayType(LongType(), True), True), StructField('name', StringType(), True), StructField('screen_name', StringType(), True)]), True), True)]), True), StructField('extended_entities', StructType([StructField('media', ArrayType(StructType([StructField('additional_media_info', StructType([StructField('monetizable', BooleanType(), True)]), True), StructField('display_url', StringType(), True), StructField('expanded_url', StringType(), True), StructField('id', LongType(), True), StructField('id_str', StringType(), True), StructField('indices', ArrayType(LongType(), True), True), StructField('media_url', StringType(), True), StructField('media_url_https', StringType(), True), StructField('sizes', StructType([StructField('large', StructType([StructField('h', LongType(), True), StructField('resize', StringType(), True), StructField('w', LongType(), True)]), True), StructField('medium', StructType([StructField('h', LongType(), True), StructField('resize', StringType(), True), StructField('w', LongType(), True)]), True), StructField('small', StructType([StructField('h', LongType(), True), StructField('resize', StringType(), True), StructField('w', LongType(), True)]), True), StructField('thumb', StructType([StructField('h', LongType(), True), StructField('resize', StringType(), True), StructField('w', LongType(), True)]), True)]), True), StructField('source_status_id', LongType(), True), StructField('source_status_id_str', StringType(), True), StructField('source_user_id', LongType(), True), StructField('source_user_id_str', StringType(), True), StructField('type', StringType(), True), StructField('url', StringType(), True), StructField('video_info', StructType([StructField('aspect_ratio', ArrayType(LongType(), True), True), StructField('duration_millis', LongType(), True), StructField('variants', ArrayType(StructType([StructField('bitrate', LongType(), True), StructField('content_type', StringType(), True), StructField('url', StringType(), True)]), True), True)]), True)]), True), True)]), True), StructField('full_text', StringType(), True)]), True), StructField('favorite_count', LongType(), True), StructField('favorited', BooleanType(), True), StructField('filter_level', StringType(), True), StructField('geo', StringType(), True), StructField('id', LongType(), True), StructField('id_str', StringType(), True), StructField('in_reply_to_screen_name', StringType(), True), StructField('in_reply_to_status_id', LongType(), True), StructField('in_reply_to_status_id_str', StringType(), True), StructField('in_reply_to_user_id', LongType(), True), StructField('in_reply_to_user_id_str', StringType(), True), StructField('is_quote_status', BooleanType(), True), StructField('lang', StringType(), True), StructField('place', StructType([StructField('bounding_box', StructType([StructField('coordinates', ArrayType(ArrayType(ArrayType(DoubleType(), True), True), True), True), StructField('type', StringType(), True)]), True), StructField('country', StringType(), True), StructField('country_code', StringType(), True), StructField('full_name', StringType(), True), StructField('id', StringType(), True), StructField('name', StringType(), True), StructField('place_type', StringType(), True), StructField('url', StringType(), True)]), True), StructField('possibly_sensitive', BooleanType(), True), StructField('quote_count', LongType(), True), StructField('quoted_status', StructType([StructField('contributors', StringType(), True), StructField('coordinates', StringType(), True), StructField('created_at', StringType(), True), StructField('display_text_range', ArrayType(LongType(), True), True), StructField('entities', StructType([StructField('hashtags', ArrayType(StructType([StructField('indices', ArrayType(LongType(), True), True), StructField('text', StringType(), True)]), True), True), StructField('media', ArrayType(StructType([StructField('additional_media_info', StructType([StructField('monetizable', BooleanType(), True)]), True), StructField('display_url', StringType(), True), StructField('expanded_url', StringType(), True), StructField('id', LongType(), True), StructField('id_str', StringType(), True), StructField('indices', ArrayType(LongType(), True), True), StructField('media_url', StringType(), True), StructField('media_url_https', StringType(), True), StructField('sizes', StructType([StructField('large', StructType([StructField('h', LongType(), True), StructField('resize', StringType(), True), StructField('w', LongType(), True)]), True), StructField('medium', StructType([StructField('h', LongType(), True), StructField('resize', StringType(), True), StructField('w', LongType(), True)]), True), StructField('small', StructType([StructField('h', LongType(), True), StructField('resize', StringType(), True), StructField('w', LongType(), True)]), True), StructField('thumb', StructType([StructField('h', LongType(), True), StructField('resize', StringType(), True), StructField('w', LongType(), True)]), True)]), True), StructField('source_status_id', LongType(), True), StructField('source_status_id_str', StringType(), True), StructField('source_user_id', LongType(), True), StructField('source_user_id_str', StringType(), True), StructField('type', StringType(), True), StructField('url', StringType(), True)]), True), True), StructField('symbols', ArrayType(StringType(), True), True), StructField('urls', ArrayType(StructType([StructField('display_url', StringType(), True), StructField('expanded_url', StringType(), True), StructField('indices', ArrayType(LongType(), True), True), StructField('url', StringType(), True)]), True), True), StructField('user_mentions', ArrayType(StructType([StructField('id', LongType(), True), StructField('id_str', StringType(), True), StructField('indices', ArrayType(LongType(), True), True), StructField('name', StringType(), True), StructField('screen_name', StringType(), True)]), True), True)]), True), StructField('extended_entities', StructType([StructField('media', ArrayType(StructType([StructField('additional_media_info', StructType([StructField('monetizable', BooleanType(), True)]), True), StructField('display_url', StringType(), True), StructField('expanded_url', StringType(), True), StructField('id', LongType(), True), StructField('id_str', StringType(), True), StructField('indices', ArrayType(LongType(), True), True), StructField('media_url', StringType(), True), StructField('media_url_https', StringType(), True), StructField('sizes', StructType([StructField('large', StructType([StructField('h', LongType(), True), StructField('resize', StringType(), True), StructField('w', LongType(), True)]), True), StructField('medium', StructType([StructField('h', LongType(), True), StructField('resize', StringType(), True), StructField('w', LongType(), True)]), True), StructField('small', StructType([StructField('h', LongType(), True), StructField('resize', StringType(), True), StructField('w', LongType(), True)]), True), StructField('thumb', StructType([StructField('h', LongType(), True), StructField('resize', StringType(), True), StructField('w', LongType(), True)]), True)]), True), StructField('source_status_id', LongType(), True), StructField('source_status_id_str', StringType(), True), StructField('source_user_id', LongType(), True), StructField('source_user_id_str', StringType(), True), StructField('type', StringType(), True), StructField('url', StringType(), True), StructField('video_info', StructType([StructField('aspect_ratio', ArrayType(LongType(), True), True), StructField('duration_millis', LongType(), True), StructField('variants', ArrayType(StructType([StructField('bitrate', LongType(), True), StructField('content_type', StringType(), True), StructField('url', StringType(), True)]), True), True)]), True)]), True), True)]), True), StructField('extended_tweet', StructType([StructField('display_text_range', ArrayType(LongType(), True), True), StructField('entities', StructType([StructField('hashtags', ArrayType(StructType([StructField('indices', ArrayType(LongType(), True), True), StructField('text', StringType(), True)]), True), True), StructField('media', ArrayType(StructType([StructField('additional_media_info', StructType([StructField('monetizable', BooleanType(), True)]), True), StructField('display_url', StringType(), True), StructField('expanded_url', StringType(), True), StructField('id', LongType(), True), StructField('id_str', StringType(), True), StructField('indices', ArrayType(LongType(), True), True), StructField('media_url', StringType(), True), StructField('media_url_https', StringType(), True), StructField('sizes', StructType([StructField('large', StructType([StructField('h', LongType(), True), StructField('resize', StringType(), True), StructField('w', LongType(), True)]), True), StructField('medium', StructType([StructField('h', LongType(), True), StructField('resize', StringType(), True), StructField('w', LongType(), True)]), True), StructField('small', StructType([StructField('h', LongType(), True), StructField('resize', StringType(), True), StructField('w', LongType(), True)]), True), StructField('thumb', StructType([StructField('h', LongType(), True), StructField('resize', StringType(), True), StructField('w', LongType(), True)]), True)]), True), StructField('type', StringType(), True), StructField('url', StringType(), True), StructField('video_info', StructType([StructField('aspect_ratio', ArrayType(LongType(), True), True), StructField('duration_millis', LongType(), True), StructField('variants', ArrayType(StructType([StructField('bitrate', LongType(), True), StructField('content_type', StringType(), True), StructField('url', StringType(), True)]), True), True)]), True)]), True), True), StructField('symbols', ArrayType(StringType(), True), True), StructField('urls', ArrayType(StructType([StructField('display_url', StringType(), True), StructField('expanded_url', StringType(), True), StructField('indices', ArrayType(LongType(), True), True), StructField('url', StringType(), True)]), True), True), StructField('user_mentions', ArrayType(StructType([StructField('id', LongType(), True), StructField('id_str', StringType(), True), StructField('indices', ArrayType(LongType(), True), True), StructField('name', StringType(), True), StructField('screen_name', StringType(), True)]), True), True)]), True), StructField('extended_entities', StructType([StructField('media', ArrayType(StructType([StructField('additional_media_info', StructType([StructField('monetizable', BooleanType(), True)]), True), StructField('display_url', StringType(), True), StructField('expanded_url', StringType(), True), StructField('id', LongType(), True), StructField('id_str', StringType(), True), StructField('indices', ArrayType(LongType(), True), True), StructField('media_url', StringType(), True), StructField('media_url_https', StringType(), True), StructField('sizes', StructType([StructField('large', StructType([StructField('h', LongType(), True), StructField('resize', StringType(), True), StructField('w', LongType(), True)]), True), StructField('medium', StructType([StructField('h', LongType(), True), StructField('resize', StringType(), True), StructField('w', LongType(), True)]), True), StructField('small', StructType([StructField('h', LongType(), True), StructField('resize', StringType(), True), StructField('w', LongType(), True)]), True), StructField('thumb', StructType([StructField('h', LongType(), True), StructField('resize', StringType(), True), StructField('w', LongType(), True)]), True)]), True), StructField('type', StringType(), True), StructField('url', StringType(), True), StructField('video_info', StructType([StructField('aspect_ratio', ArrayType(LongType(), True), True), StructField('duration_millis', LongType(), True), StructField('variants', ArrayType(StructType([StructField('bitrate', LongType(), True), StructField('content_type', StringType(), True), StructField('url', StringType(), True)]), True), True)]), True)]), True), True)]), True), StructField('full_text', StringType(), True)]), True), StructField('favorite_count', LongType(), True), StructField('favorited', BooleanType(), True), StructField('filter_level', StringType(), True), StructField('geo', StringType(), True), StructField('id', LongType(), True), StructField('id_str', StringType(), True), StructField('in_reply_to_screen_name', StringType(), True), StructField('in_reply_to_status_id', LongType(), True), StructField('in_reply_to_status_id_str', StringType(), True), StructField('in_reply_to_user_id', LongType(), True), StructField('in_reply_to_user_id_str', StringType(), True), StructField('is_quote_status', BooleanType(), True), StructField('lang', StringType(), True), StructField('place', StringType(), True), StructField('possibly_sensitive', BooleanType(), True), StructField('quote_count', LongType(), True), StructField('quoted_status_id', LongType(), True), StructField('quoted_status_id_str', StringType(), True), StructField('reply_count', LongType(), True), StructField('retweet_count', LongType(), True), StructField('retweeted', BooleanType(), True), StructField('source', StringType(), True), StructField('text', StringType(), True), StructField('truncated', BooleanType(), True), StructField('user', StructType([StructField('contributors_enabled', BooleanType(), True), StructField('created_at', StringType(), True), StructField('default_profile', BooleanType(), True), StructField('default_profile_image', BooleanType(), True), StructField('description', StringType(), True), StructField('favourites_count', LongType(), True), StructField('follow_request_sent', StringType(), True), StructField('followers_count', LongType(), True), StructField('following', StringType(), True), StructField('friends_count', LongType(), True), StructField('geo_enabled', BooleanType(), True), StructField('id', LongType(), True), StructField('id_str', StringType(), True), StructField('is_translator', BooleanType(), True), StructField('lang', StringType(), True), StructField('listed_count', LongType(), True), StructField('location', StringType(), True), StructField('name', StringType(), True), StructField('notifications', StringType(), True), StructField('profile_background_color', StringType(), True), StructField('profile_background_image_url', StringType(), True), StructField('profile_background_image_url_https', StringType(), True), StructField('profile_background_tile', BooleanType(), True), StructField('profile_banner_url', StringType(), True), StructField('profile_image_url', StringType(), True), StructField('profile_image_url_https', StringType(), True), StructField('profile_link_color', StringType(), True), StructField('profile_sidebar_border_color', StringType(), True), StructField('profile_sidebar_fill_color', StringType(), True), StructField('profile_text_color', StringType(), True), StructField('profile_use_background_image', BooleanType(), True), StructField('protected', BooleanType(), True), StructField('screen_name', StringType(), True), StructField('statuses_count', LongType(), True), StructField('time_zone', StringType(), True), StructField('translator_type', StringType(), True), StructField('url', StringType(), True), StructField('utc_offset', StringType(), True), StructField('verified', BooleanType(), True)]), True)]), True), StructField('quoted_status_id', LongType(), True), StructField('quoted_status_id_str', StringType(), True), StructField('quoted_status_permalink', StructType([StructField('display', StringType(), True), StructField('expanded', StringType(), True), StructField('url', StringType(), True)]), True), StructField('reply_count', LongType(), True), StructField('retweet_count', LongType(), True), StructField('retweeted', BooleanType(), True), StructField('retweeted_status', StructType([StructField('contributors', StringType(), True), StructField('coordinates', StructType([StructField('coordinates', ArrayType(DoubleType(), True), True), StructField('type', StringType(), True)]), True), StructField('created_at', StringType(), True), StructField('display_text_range', ArrayType(LongType(), True), True), StructField('entities', StructType([StructField('hashtags', ArrayType(StructType([StructField('indices', ArrayType(LongType(), True), True), StructField('text', StringType(), True)]), True), True), StructField('media', ArrayType(StructType([StructField('additional_media_info', StructType([StructField('monetizable', BooleanType(), True)]), True), StructField('display_url', StringType(), True), StructField('expanded_url', StringType(), True), StructField('id', LongType(), True), StructField('id_str', StringType(), True), StructField('indices', ArrayType(LongType(), True), True), StructField('media_url', StringType(), True), StructField('media_url_https', StringType(), True), StructField('sizes', StructType([StructField('large', StructType([StructField('h', LongType(), True), StructField('resize', StringType(), True), StructField('w', LongType(), True)]), True), StructField('medium', StructType([StructField('h', LongType(), True), StructField('resize', StringType(), True), StructField('w', LongType(), True)]), True), StructField('small', StructType([StructField('h', LongType(), True), StructField('resize', StringType(), True), StructField('w', LongType(), True)]), True), StructField('thumb', StructType([StructField('h', LongType(), True), StructField('resize', StringType(), True), StructField('w', LongType(), True)]), True)]), True), StructField('source_status_id', LongType(), True), StructField('source_status_id_str', StringType(), True), StructField('source_user_id', LongType(), True), StructField('source_user_id_str', StringType(), True), StructField('type', StringType(), True), StructField('url', StringType(), True)]), True), True), StructField('symbols', ArrayType(StructType([StructField('indices', ArrayType(LongType(), True), True), StructField('text', StringType(), True)]), True), True), StructField('urls', ArrayType(StructType([StructField('display_url', StringType(), True), StructField('expanded_url', StringType(), True), StructField('indices', ArrayType(LongType(), True), True), StructField('url', StringType(), True)]), True), True), StructField('user_mentions', ArrayType(StructType([StructField('id', LongType(), True), StructField('id_str', StringType(), True), StructField('indices', ArrayType(LongType(), True), True), StructField('name', StringType(), True), StructField('screen_name', StringType(), True)]), True), True)]), True), StructField('extended_entities', StructType([StructField('media', ArrayType(StructType([StructField('additional_media_info', StructType([StructField('monetizable', BooleanType(), True)]), True), StructField('display_url', StringType(), True), StructField('expanded_url', StringType(), True), StructField('id', LongType(), True), StructField('id_str', StringType(), True), StructField('indices', ArrayType(LongType(), True), True), StructField('media_url', StringType(), True), StructField('media_url_https', StringType(), True), StructField('sizes', StructType([StructField('large', StructType([StructField('h', LongType(), True), StructField('resize', StringType(), True), StructField('w', LongType(), True)]), True), StructField('medium', StructType([StructField('h', LongType(), True), StructField('resize', StringType(), True), StructField('w', LongType(), True)]), True), StructField('small', StructType([StructField('h', LongType(), True), StructField('resize', StringType(), True), StructField('w', LongType(), True)]), True), StructField('thumb', StructType([StructField('h', LongType(), True), StructField('resize', StringType(), True), StructField('w', LongType(), True)]), True)]), True), StructField('source_status_id', LongType(), True), StructField('source_status_id_str', StringType(), True), StructField('source_user_id', LongType(), True), StructField('source_user_id_str', StringType(), True), StructField('type', StringType(), True), StructField('url', StringType(), True), StructField('video_info', StructType([StructField('aspect_ratio', ArrayType(LongType(), True), True), StructField('duration_millis', LongType(), True), StructField('variants', ArrayType(StructType([StructField('bitrate', LongType(), True), StructField('content_type', StringType(), True), StructField('url', StringType(), True)]), True), True)]), True)]), True), True)]), True), StructField('extended_tweet', StructType([StructField('display_text_range', ArrayType(LongType(), True), True), StructField('entities', StructType([StructField('hashtags', ArrayType(StructType([StructField('indices', ArrayType(LongType(), True), True), StructField('text', StringType(), True)]), True), True), StructField('media', ArrayType(StructType([StructField('additional_media_info', StructType([StructField('monetizable', BooleanType(), True)]), True), StructField('display_url', StringType(), True), StructField('expanded_url', StringType(), True), StructField('id', LongType(), True), StructField('id_str', StringType(), True), StructField('indices', ArrayType(LongType(), True), True), StructField('media_url', StringType(), True), StructField('media_url_https', StringType(), True), StructField('sizes', StructType([StructField('large', StructType([StructField('h', LongType(), True), StructField('resize', StringType(), True), StructField('w', LongType(), True)]), True), StructField('medium', StructType([StructField('h', LongType(), True), StructField('resize', StringType(), True), StructField('w', LongType(), True)]), True), StructField('small', StructType([StructField('h', LongType(), True), StructField('resize', StringType(), True), StructField('w', LongType(), True)]), True), StructField('thumb', StructType([StructField('h', LongType(), True), StructField('resize', StringType(), True), StructField('w', LongType(), True)]), True)]), True), StructField('source_status_id', LongType(), True), StructField('source_status_id_str', StringType(), True), StructField('source_user_id', LongType(), True), StructField('source_user_id_str', StringType(), True), StructField('type', StringType(), True), StructField('url', StringType(), True), StructField('video_info', StructType([StructField('aspect_ratio', ArrayType(LongType(), True), True), StructField('duration_millis', LongType(), True), StructField('variants', ArrayType(StructType([StructField('bitrate', LongType(), True), StructField('content_type', StringType(), True), StructField('url', StringType(), True)]), True), True)]), True)]), True), True), StructField('symbols', ArrayType(StructType([StructField('indices', ArrayType(LongType(), True), True), StructField('text', StringType(), True)]), True), True), StructField('urls', ArrayType(StructType([StructField('display_url', StringType(), True), StructField('expanded_url', StringType(), True), StructField('indices', ArrayType(LongType(), True), True), StructField('url', StringType(), True)]), True), True), StructField('user_mentions', ArrayType(StructType([StructField('id', LongType(), True), StructField('id_str', StringType(), True), StructField('indices', ArrayType(LongType(), True), True), StructField('name', StringType(), True), StructField('screen_name', StringType(), True)]), True), True)]), True), StructField('extended_entities', StructType([StructField('media', ArrayType(StructType([StructField('additional_media_info', StructType([StructField('monetizable', BooleanType(), True)]), True), StructField('display_url', StringType(), True), StructField('expanded_url', StringType(), True), StructField('id', LongType(), True), StructField('id_str', StringType(), True), StructField('indices', ArrayType(LongType(), True), True), StructField('media_url', StringType(), True), StructField('media_url_https', StringType(), True), StructField('sizes', StructType([StructField('large', StructType([StructField('h', LongType(), True), StructField('resize', StringType(), True), StructField('w', LongType(), True)]), True), StructField('medium', StructType([StructField('h', LongType(), True), StructField('resize', StringType(), True), StructField('w', LongType(), True)]), True), StructField('small', StructType([StructField('h', LongType(), True), StructField('resize', StringType(), True), StructField('w', LongType(), True)]), True), StructField('thumb', StructType([StructField('h', LongType(), True), StructField('resize', StringType(), True), StructField('w', LongType(), True)]), True)]), True), StructField('source_status_id', LongType(), True), StructField('source_status_id_str', StringType(), True), StructField('source_user_id', LongType(), True), StructField('source_user_id_str', StringType(), True), StructField('type', StringType(), True), StructField('url', StringType(), True), StructField('video_info', StructType([StructField('aspect_ratio', ArrayType(LongType(), True), True), StructField('duration_millis', LongType(), True), StructField('variants', ArrayType(StructType([StructField('bitrate', LongType(), True), StructField('content_type', StringType(), True), StructField('url', StringType(), True)]), True), True)]), True)]), True), True)]), True), StructField('full_text', StringType(), True)]), True), StructField('favorite_count', LongType(), True), StructField('favorited', BooleanType(), True), StructField('filter_level', StringType(), True), StructField('geo', StructType([StructField('coordinates', ArrayType(DoubleType(), True), True), StructField('type', StringType(), True)]), True), StructField('id', LongType(), True), StructField('id_str', StringType(), True), StructField('in_reply_to_screen_name', StringType(), True), StructField('in_reply_to_status_id', LongType(), True), StructField('in_reply_to_status_id_str', StringType(), True), StructField('in_reply_to_user_id', LongType(), True), StructField('in_reply_to_user_id_str', StringType(), True), StructField('is_quote_status', BooleanType(), True), StructField('lang', StringType(), True), StructField('place', StructType([StructField('bounding_box', StructType([StructField('coordinates', ArrayType(ArrayType(ArrayType(DoubleType(), True), True), True), True), StructField('type', StringType(), True)]), True), StructField('country', StringType(), True), StructField('country_code', StringType(), True), StructField('full_name', StringType(), True), StructField('id', StringType(), True), StructField('name', StringType(), True), StructField('place_type', StringType(), True), StructField('url', StringType(), True)]), True), StructField('possibly_sensitive', BooleanType(), True), StructField('quote_count', LongType(), True), StructField('quoted_status', StructType([StructField('contributors', StringType(), True), StructField('coordinates', StringType(), True), StructField('created_at', StringType(), True), StructField('display_text_range', ArrayType(LongType(), True), True), StructField('entities', StructType([StructField('hashtags', ArrayType(StructType([StructField('indices', ArrayType(LongType(), True), True), StructField('text', StringType(), True)]), True), True), StructField('media', ArrayType(StructType([StructField('additional_media_info', StructType([StructField('monetizable', BooleanType(), True)]), True), StructField('display_url', StringType(), True), StructField('expanded_url', StringType(), True), StructField('id', LongType(), True), StructField('id_str', StringType(), True), StructField('indices', ArrayType(LongType(), True), True), StructField('media_url', StringType(), True), StructField('media_url_https', StringType(), True), StructField('sizes', StructType([StructField('large', StructType([StructField('h', LongType(), True), StructField('resize', StringType(), True), StructField('w', LongType(), True)]), True), StructField('medium', StructType([StructField('h', LongType(), True), StructField('resize', StringType(), True), StructField('w', LongType(), True)]), True), StructField('small', StructType([StructField('h', LongType(), True), StructField('resize', StringType(), True), StructField('w', LongType(), True)]), True), StructField('thumb', StructType([StructField('h', LongType(), True), StructField('resize', StringType(), True), StructField('w', LongType(), True)]), True)]), True), StructField('source_status_id', LongType(), True), StructField('source_status_id_str', StringType(), True), StructField('source_user_id', LongType(), True), StructField('source_user_id_str', StringType(), True), StructField('type', StringType(), True), StructField('url', StringType(), True)]), True), True), StructField('symbols', ArrayType(StringType(), True), True), StructField('urls', ArrayType(StructType([StructField('display_url', StringType(), True), StructField('expanded_url', StringType(), True), StructField('indices', ArrayType(LongType(), True), True), StructField('url', StringType(), True)]), True), True), StructField('user_mentions', ArrayType(StringType(), True), True)]), True), StructField('extended_entities', StructType([StructField('media', ArrayType(StructType([StructField('additional_media_info', StructType([StructField('monetizable', BooleanType(), True)]), True), StructField('display_url', StringType(), True), StructField('expanded_url', StringType(), True), StructField('id', LongType(), True), StructField('id_str', StringType(), True), StructField('indices', ArrayType(LongType(), True), True), StructField('media_url', StringType(), True), StructField('media_url_https', StringType(), True), StructField('sizes', StructType([StructField('large', StructType([StructField('h', LongType(), True), StructField('resize', StringType(), True), StructField('w', LongType(), True)]), True), StructField('medium', StructType([StructField('h', LongType(), True), StructField('resize', StringType(), True), StructField('w', LongType(), True)]), True), StructField('small', StructType([StructField('h', LongType(), True), StructField('resize', StringType(), True), StructField('w', LongType(), True)]), True), StructField('thumb', StructType([StructField('h', LongType(), True), StructField('resize', StringType(), True), StructField('w', LongType(), True)]), True)]), True), StructField('source_status_id', LongType(), True), StructField('source_status_id_str', StringType(), True), StructField('source_user_id', LongType(), True), StructField('source_user_id_str', StringType(), True), StructField('type', StringType(), True), StructField('url', StringType(), True), StructField('video_info', StructType([StructField('aspect_ratio', ArrayType(LongType(), True), True), StructField('duration_millis', LongType(), True), StructField('variants', ArrayType(StructType([StructField('bitrate', LongType(), True), StructField('content_type', StringType(), True), StructField('url', StringType(), True)]), True), True)]), True)]), True), True)]), True), StructField('extended_tweet', StructType([StructField('display_text_range', ArrayType(LongType(), True), True), StructField('entities', StructType([StructField('hashtags', ArrayType(StructType([StructField('indices', ArrayType(LongType(), True), True), StructField('text', StringType(), True)]), True), True), StructField('media', ArrayType(StructType([StructField('additional_media_info', StructType([StructField('monetizable', BooleanType(), True)]), True), StructField('display_url', StringType(), True), StructField('expanded_url', StringType(), True), StructField('id', LongType(), True), StructField('id_str', StringType(), True), StructField('indices', ArrayType(LongType(), True), True), StructField('media_url', StringType(), True), StructField('media_url_https', StringType(), True), StructField('sizes', StructType([StructField('large', StructType([StructField('h', LongType(), True), StructField('resize', StringType(), True), StructField('w', LongType(), True)]), True), StructField('medium', StructType([StructField('h', LongType(), True), StructField('resize', StringType(), True), StructField('w', LongType(), True)]), True), StructField('small', StructType([StructField('h', LongType(), True), StructField('resize', StringType(), True), StructField('w', LongType(), True)]), True), StructField('thumb', StructType([StructField('h', LongType(), True), StructField('resize', StringType(), True), StructField('w', LongType(), True)]), True)]), True), StructField('type', StringType(), True), StructField('url', StringType(), True), StructField('video_info', StructType([StructField('aspect_ratio', ArrayType(LongType(), True), True), StructField('duration_millis', LongType(), True), StructField('variants', ArrayType(StructType([StructField('bitrate', LongType(), True), StructField('content_type', StringType(), True), StructField('url', StringType(), True)]), True), True)]), True)]), True), True), StructField('symbols', ArrayType(StringType(), True), True), StructField('urls', ArrayType(StructType([StructField('display_url', StringType(), True), StructField('expanded_url', StringType(), True), StructField('indices', ArrayType(LongType(), True), True), StructField('url', StringType(), True)]), True), True), StructField('user_mentions', ArrayType(StructType([StructField('id', LongType(), True), StructField('id_str', StringType(), True), StructField('indices', ArrayType(LongType(), True), True), StructField('name', StringType(), True), StructField('screen_name', StringType(), True)]), True), True)]), True), StructField('extended_entities', StructType([StructField('media', ArrayType(StructType([StructField('additional_media_info', StructType([StructField('monetizable', BooleanType(), True)]), True), StructField('display_url', StringType(), True), StructField('expanded_url', StringType(), True), StructField('id', LongType(), True), StructField('id_str', StringType(), True), StructField('indices', ArrayType(LongType(), True), True), StructField('media_url', StringType(), True), StructField('media_url_https', StringType(), True), StructField('sizes', StructType([StructField('large', StructType([StructField('h', LongType(), True), StructField('resize', StringType(), True), StructField('w', LongType(), True)]), True), StructField('medium', StructType([StructField('h', LongType(), True), StructField('resize', StringType(), True), StructField('w', LongType(), True)]), True), StructField('small', StructType([StructField('h', LongType(), True), StructField('resize', StringType(), True), StructField('w', LongType(), True)]), True), StructField('thumb', StructType([StructField('h', LongType(), True), StructField('resize', StringType(), True), StructField('w', LongType(), True)]), True)]), True), StructField('type', StringType(), True), StructField('url', StringType(), True), StructField('video_info', StructType([StructField('aspect_ratio', ArrayType(LongType(), True), True), StructField('duration_millis', LongType(), True), StructField('variants', ArrayType(StructType([StructField('bitrate', LongType(), True), StructField('content_type', StringType(), True), StructField('url', StringType(), True)]), True), True)]), True)]), True), True)]), True), StructField('full_text', StringType(), True)]), True), StructField('favorite_count', LongType(), True), StructField('favorited', BooleanType(), True), StructField('filter_level', StringType(), True), StructField('geo', StringType(), True), StructField('id', LongType(), True), StructField('id_str', StringType(), True), StructField('in_reply_to_screen_name', StringType(), True), StructField('in_reply_to_status_id', LongType(), True), StructField('in_reply_to_status_id_str', StringType(), True), StructField('in_reply_to_user_id', LongType(), True), StructField('in_reply_to_user_id_str', StringType(), True), StructField('is_quote_status', BooleanType(), True), StructField('lang', StringType(), True), StructField('place', StringType(), True), StructField('possibly_sensitive', BooleanType(), True), StructField('quote_count', LongType(), True), StructField('reply_count', LongType(), True), StructField('retweet_count', LongType(), True), StructField('retweeted', BooleanType(), True), StructField('source', StringType(), True), StructField('text', StringType(), True), StructField('truncated', BooleanType(), True), StructField('user', StructType([StructField('contributors_enabled', BooleanType(), True), StructField('created_at', StringType(), True), StructField('default_profile', BooleanType(), True), StructField('default_profile_image', BooleanType(), True), StructField('description', StringType(), True), StructField('favourites_count', LongType(), True), StructField('follow_request_sent', StringType(), True), StructField('followers_count', LongType(), True), StructField('following', StringType(), True), StructField('friends_count', LongType(), True), StructField('geo_enabled', BooleanType(), True), StructField('id', LongType(), True), StructField('id_str', StringType(), True), StructField('is_translator', BooleanType(), True), StructField('lang', StringType(), True), StructField('listed_count', LongType(), True), StructField('location', StringType(), True), StructField('name', StringType(), True), StructField('notifications', StringType(), True), StructField('profile_background_color', StringType(), True), StructField('profile_background_image_url', StringType(), True), StructField('profile_background_image_url_https', StringType(), True), StructField('profile_background_tile', BooleanType(), True), StructField('profile_banner_url', StringType(), True), StructField('profile_image_url', StringType(), True), StructField('profile_image_url_https', StringType(), True), StructField('profile_link_color', StringType(), True), StructField('profile_sidebar_border_color', StringType(), True), StructField('profile_sidebar_fill_color', StringType(), True), StructField('profile_text_color', StringType(), True), StructField('profile_use_background_image', BooleanType(), True), StructField('protected', BooleanType(), True), StructField('screen_name', StringType(), True), StructField('statuses_count', LongType(), True), StructField('time_zone', StringType(), True), StructField('translator_type', StringType(), True), StructField('url', StringType(), True), StructField('utc_offset', StringType(), True), StructField('verified', BooleanType(), True)]), True)]), True), StructField('quoted_status_id', LongType(), True), StructField('quoted_status_id_str', StringType(), True), StructField('quoted_status_permalink', StructType([StructField('display', StringType(), True), StructField('expanded', StringType(), True), StructField('url', StringType(), True)]), True), StructField('reply_count', LongType(), True), StructField('retweet_count', LongType(), True), StructField('retweeted', BooleanType(), True), StructField('source', StringType(), True), StructField('text', StringType(), True), StructField('truncated', BooleanType(), True), StructField('user', StructType([StructField('contributors_enabled', BooleanType(), True), StructField('created_at', StringType(), True), StructField('default_profile', BooleanType(), True), StructField('default_profile_image', BooleanType(), True), StructField('description', StringType(), True), StructField('favourites_count', LongType(), True), StructField('follow_request_sent', StringType(), True), StructField('followers_count', LongType(), True), StructField('following', StringType(), True), StructField('friends_count', LongType(), True), StructField('geo_enabled', BooleanType(), True), StructField('id', LongType(), True), StructField('id_str', StringType(), True), StructField('is_translator', BooleanType(), True), StructField('lang', StringType(), True), StructField('listed_count', LongType(), True), StructField('location', StringType(), True), StructField('name', StringType(), True), StructField('notifications', StringType(), True), StructField('profile_background_color', StringType(), True), StructField('profile_background_image_url', StringType(), True), StructField('profile_background_image_url_https', StringType(), True), StructField('profile_background_tile', BooleanType(), True), StructField('profile_banner_url', StringType(), True), StructField('profile_image_url', StringType(), True), StructField('profile_image_url_https', StringType(), True), StructField('profile_link_color', StringType(), True), StructField('profile_sidebar_border_color', StringType(), True), StructField('profile_sidebar_fill_color', StringType(), True), StructField('profile_text_color', StringType(), True), StructField('profile_use_background_image', BooleanType(), True), StructField('protected', BooleanType(), True), StructField('screen_name', StringType(), True), StructField('statuses_count', LongType(), True), StructField('time_zone', StringType(), True), StructField('translator_type', StringType(), True), StructField('url', StringType(), True), StructField('utc_offset', StringType(), True), StructField('verified', BooleanType(), True)]), True)]), True), StructField('source', StringType(), True), StructField('text', StringType(), True), StructField('timestamp_ms', StringType(), True), StructField('truncated', BooleanType(), True), StructField('user', StructType([StructField('contributors_enabled', BooleanType(), True), StructField('created_at', StringType(), True), StructField('default_profile', BooleanType(), True), StructField('default_profile_image', BooleanType(), True), StructField('description', StringType(), True), StructField('favourites_count', LongType(), True), StructField('follow_request_sent', StringType(), True), StructField('followers_count', LongType(), True), StructField('following', StringType(), True), StructField('friends_count', LongType(), True), StructField('geo_enabled', BooleanType(), True), StructField('id', LongType(), True), StructField('id_str', StringType(), True), StructField('is_translator', BooleanType(), True), StructField('lang', StringType(), True), StructField('listed_count', LongType(), True), StructField('location', StringType(), True), StructField('name', StringType(), True), StructField('notifications', StringType(), True), StructField('profile_background_color', StringType(), True), StructField('profile_background_image_url', StringType(), True), StructField('profile_background_image_url_https', StringType(), True), StructField('profile_background_tile', BooleanType(), True), StructField('profile_banner_url', StringType(), True), StructField('profile_image_url', StringType(), True), StructField('profile_image_url_https', StringType(), True), StructField('profile_link_color', StringType(), True), StructField('profile_sidebar_border_color', StringType(), True), StructField('profile_sidebar_fill_color', StringType(), True), StructField('profile_text_color', StringType(), True), StructField('profile_use_background_image', BooleanType(), True), StructField('protected', BooleanType(), True), StructField('screen_name', StringType(), True), StructField('statuses_count', LongType(), True), StructField('time_zone', StringType(), True), StructField('translator_type', StringType(), True), StructField('url', StringType(), True), StructField('utc_offset', StringType(), True), StructField('verified', BooleanType(), True)]), True)])\n"
     ]
    }
   ],
   "source": [
    "schema = pickle.load(open(\"/home/onyxia/work/schema.p\", \"rb\" ))\n",
    "print(schema)"
   ]
  },
  {
   "cell_type": "code",
   "execution_count": 24,
   "id": "edb698f2-26b4-4083-85d4-cc2092c7b148",
   "metadata": {},
   "outputs": [],
   "source": [
    "df = spark.read.format(\"json\")  \\\n",
    "    .schema(schema) \\\n",
    "    .load(\"s3a://projet-spark-lab/diffusion/tweets/input\")"
   ]
  },
  {
   "cell_type": "code",
   "execution_count": 25,
   "id": "39ae82e8-cfcd-4d1e-894d-630c0e21172f",
   "metadata": {},
   "outputs": [
    {
     "name": "stderr",
     "output_type": "stream",
     "text": [
      "                                                                                \r"
     ]
    },
    {
     "data": {
      "text/plain": [
       "[Row(id=1380403542725365762, user_id=1229160600737132544, name='FREDERIC 🇫🇷🐷🍴', followers_count=1981, hashtags=['FakeNews'], has_hashtag=1, text='RT @ThierryMARIANI: Quand @MLP_officiel le dénonce, c’est une #FakeNews.\\nQuand l’@InseeFr le confirme, cela devient hélas une évidence que…', user_mentions=[Row(id=87212906, id_str='87212906', indices=[3, 18], name='Thierry MARIANI', screen_name='ThierryMARIANI'), Row(id=217749896, id_str='217749896', indices=[26, 39], name='Marine Le Pen', screen_name='MLP_officiel'), Row(id=217473382, id_str='217473382', indices=[81, 89], name='Insee', screen_name='InseeFr')])]"
      ]
     },
     "execution_count": 25,
     "metadata": {},
     "output_type": "execute_result"
    }
   ],
   "source": [
    "df.select(col(\"id\").alias(\"id\"),\n",
    "         col(\"user.id\").alias(\"user_id\"),\n",
    "         col(\"user.name\").alias(\"name\"),\n",
    "         col(\"user.followers_count\"),\n",
    "         col(\"entities.hashtags.text\").alias(\"hashtags\"),\n",
    "         size(\"entities.hashtags\").alias(\"has_hashtag\"),\n",
    "         col(\"text\"),\n",
    "         col(\"entities.user_mentions\")) \\\n",
    " .filter(col(\"has_hashtag\")>0) \\\n",
    " .head(1) "
   ]
  },
  {
   "cell_type": "code",
   "execution_count": null,
   "id": "714a70be-38ef-4440-aaa5-d0cd042e11d8",
   "metadata": {},
   "outputs": [
    {
     "name": "stderr",
     "output_type": "stream",
     "text": [
      "[Stage 14:==>                                                   (47 + 10) / 958]\r"
     ]
    }
   ],
   "source": [
    "tweeters=df.select(col(\"user.id\").alias(\"id\"), col(\"user.name\").alias(\"name\"))\n",
    "users_mentionned=df.select(explode(col(\"entities.user_mentions\"))).select(col(\"col.id\").alias(\"id\"),col(\"col.screen_name\").alias(\"name\")).distinct()\n",
    "vertices=tweeters.union(users_mentionned)\n",
    "# on définit un udf qui prend le premier élément\n",
    "udf_first = udf(lambda x: x[0])\n",
    "# on groupe l'union des deux dataset par id d'utilisateur et on collect \n",
    "#sous la forme d'une liste leurs noms qui peuvent différer entre les mentions et le compte\n",
    "# on applique l'udf pour ne retenir que le nom en tête\n",
    "final_vertices=vertices.groupby(\"id\").agg(udf_first(collect_list(\"name\")).alias(\"name\"))\n",
    "final_vertices.show(10, truncate=False)"
   ]
  },
  {
   "cell_type": "code",
   "execution_count": null,
   "id": "f600b21e-63f8-4b95-b466-ab9cd0f94a22",
   "metadata": {},
   "outputs": [],
   "source": [
    "edges=df.select(col(\"user.id\").alias(\"user_id\"), \\\n",
    "               explode(col(\"entities.user_mentions\")).alias(\"mention\"),\n",
    "               col(\"entities.hashtags.text\").alias(\"hashtags\"),\n",
    "               \"id\") \\\n",
    " .groupby(col(\"user_id\").alias(\"src\"), \\\n",
    "          col(\"mention.id\").alias(\"dst\")) \\\n",
    " .agg(count(\"id\").alias(\"nb\"),\n",
    "      flatten(collect_list(\"hashtags\")).alias(\"hashtags\"),\n",
    "      collect_list(\"id\").alias(\"id\"))\n",
    "edges.show(10)"
   ]
  },
  {
   "cell_type": "code",
   "execution_count": null,
   "id": "08f086e8-7f5f-4ffe-b3b6-28836eef1c5f",
   "metadata": {},
   "outputs": [],
   "source": [
    "g = GraphFrame(final_vertices, edges)"
   ]
  },
  {
   "cell_type": "code",
   "execution_count": null,
   "id": "91c6ffed-161e-42a9-9209-df9fb8c8f510",
   "metadata": {},
   "outputs": [],
   "source": [
    "g.cache()"
   ]
  },
  {
   "cell_type": "code",
   "execution_count": null,
   "id": "b9d19a91-0a6c-45f1-bcef-db5485232852",
   "metadata": {},
   "outputs": [],
   "source": [
    "print(\"le graphe a \"+ str(g.vertices.count()) +\" noeuds et \"+ str(g.edges.count()) + \" arcs\")"
   ]
  },
  {
   "cell_type": "code",
   "execution_count": null,
   "id": "7c9b3042-dd6c-4499-8609-008ff4323725",
   "metadata": {},
   "outputs": [],
   "source": [
    "pagerank = g.pageRank(resetProbability=0.15,tol=0.01)"
   ]
  },
  {
   "cell_type": "code",
   "execution_count": null,
   "id": "0b866581-9eb0-4b0b-8f58-c27de1322ab1",
   "metadata": {},
   "outputs": [],
   "source": [
    "pagerank.vertices.sort(desc(\"pagerank\")).show(truncate=False)"
   ]
  },
  {
   "cell_type": "code",
   "execution_count": null,
   "id": "87fe9f3e-eafe-4ca9-b1cd-9316902ea178",
   "metadata": {},
   "outputs": [],
   "source": [
    "pagerank.edges.where((col(\"src\")==\"103918784\") ).show(truncate=False)\n",
    "pagerank.edges.where((col(\"dst\")==\"103918784\") ).count()"
   ]
  },
  {
   "cell_type": "code",
   "execution_count": null,
   "id": "d5b045ac-9e36-4a1a-a23d-0ccd3dc2f819",
   "metadata": {},
   "outputs": [],
   "source": [
    "g.inDegrees.join(g.vertices,\"id\").orderBy(desc(\"inDegree\")).show(10,False)"
   ]
  },
  {
   "cell_type": "code",
   "execution_count": null,
   "id": "2c8fda9c-a04f-4c89-b294-4cf1ab4566ff",
   "metadata": {},
   "outputs": [],
   "source": [
    "g.outDegrees.join(g.vertices,\"id\").orderBy(desc(\"outDegree\")).show(10,False)"
   ]
  },
  {
   "cell_type": "code",
   "execution_count": null,
   "id": "a26dabcc-e860-44ba-894b-2748a0383369",
   "metadata": {},
   "outputs": [],
   "source": [
    "spark.stop()"
   ]
  }
 ],
 "metadata": {
  "kernelspec": {
   "display_name": "Python 3 (ipykernel)",
   "language": "python",
   "name": "python3"
  },
  "language_info": {
   "codemirror_mode": {
    "name": "ipython",
    "version": 3
   },
   "file_extension": ".py",
   "mimetype": "text/x-python",
   "name": "python",
   "nbconvert_exporter": "python",
   "pygments_lexer": "ipython3",
   "version": "3.10.13"
  }
 },
 "nbformat": 4,
 "nbformat_minor": 5
}
