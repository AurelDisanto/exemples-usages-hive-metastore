{
 "cells": [
  {
   "cell_type": "code",
   "execution_count": null,
   "id": "e56a9c79-94e6-490a-8e2f-9a1d36b1c497",
   "metadata": {},
   "outputs": [],
   "source": [
    "import os\n",
    "from pyspark.sql import SparkSession\n",
    "from pyspark import SQLContext\n"
   ]
  },
  {
   "cell_type": "code",
   "execution_count": null,
   "id": "1b29faf0-4bf4-4b67-9350-3306bb179ffb",
   "metadata": {},
   "outputs": [],
   "source": [
    "spark = (SparkSession \n",
    "         .builder\n",
    "         .enableHiveSupport()\n",
    "         .getOrCreate()\n",
    "        )\n",
    "\n",
    "sc = spark.sparkContext"
   ]
  },
  {
   "cell_type": "code",
   "execution_count": null,
   "id": "4df271d8-70ff-4c68-97e9-d3f04785b70a",
   "metadata": {},
   "outputs": [],
   "source": [
    "parquet_df = spark.read.parquet(\"s3a://auredisanto/data-exemples-avantages-spark/fichier1.parquet\")\n",
    "parquet_df.printSchema()"
   ]
  },
  {
   "cell_type": "code",
   "execution_count": null,
   "id": "878abe83-0b56-4a1e-80a1-4379d4686ad2",
   "metadata": {},
   "outputs": [],
   "source": [
    "spark.sql('show databases;').show()\n",
    "spark.sql('show tables;').show()"
   ]
  },
  {
   "cell_type": "code",
   "execution_count": null,
   "id": "37f62d97-1238-40bf-ba78-5b9b491fdbea",
   "metadata": {},
   "outputs": [],
   "source": [
    "request_create_table_hive = \"CREATE EXTERNAL TABLE IF NOT EXISTS fichier1 (identifiant string, var1_fichier1 double, col2_fichier1 double ) STORED as parquet LOCATION 's3a://auredisanto/data-exemples-avantages-spark/fichier1.parquet'\"\n",
    "print(request_create_table_hive)"
   ]
  },
  {
   "cell_type": "code",
   "execution_count": null,
   "id": "5959f383-f127-4cdb-9749-5ac8afb545e5",
   "metadata": {},
   "outputs": [],
   "source": [
    "cols = parquet_df.dtypes\n",
    "buf = []\n",
    "buf.append('CREATE EXTERNAL TABLE IF NOT EXISTS fichier1 (')\n",
    "keyanddatatypes =  parquet_df.dtypes\n",
    "sizeof = len(parquet_df.dtypes)\n",
    "count=1;\n",
    "for eachvalue in keyanddatatypes:\n",
    "    if count == sizeof:\n",
    "        total = str(eachvalue[0])+str(' ')+str(eachvalue[1])\n",
    "    else:\n",
    "        total = str(eachvalue[0]) + str(' ') + str(eachvalue[1]) + str(', ')\n",
    "    buf.append(total)\n",
    "    count = count + 1\n",
    "buf.append(' )')\n",
    "buf.append(' STORED as parquet ')\n",
    "buf.append(\"LOCATION \")\n",
    "buf.append(\"'\")\n",
    "buf.append('s3a://auredisanto/data-exemples-avantages-spark/fichier1.parquet')\n",
    "buf.append(\"'\")\n",
    "request_create_table_hive = ''.join(buf)\n",
    "print(request_create_table_hive)"
   ]
  },
  {
   "cell_type": "code",
   "execution_count": null,
   "id": "a443b829-ae65-4392-a038-05f155f379b6",
   "metadata": {},
   "outputs": [],
   "source": [
    "spark.sql(request_create_table_hive)"
   ]
  },
  {
   "cell_type": "code",
   "execution_count": null,
   "id": "c07ac512-d36d-43d9-8f55-7ba1afe71499",
   "metadata": {},
   "outputs": [],
   "source": [
    "spark.sql('show databases;').show()\n",
    "spark.sql('show tables;').show()"
   ]
  },
  {
   "cell_type": "code",
   "execution_count": null,
   "id": "42914956-1e65-4bd8-8714-0272ac7b4a88",
   "metadata": {},
   "outputs": [],
   "source": [
    "%time spark.sql('SELECT sum(col1_fichier1) as sum_col1_fichier1 FROM fichier1').show()"
   ]
  },
  {
   "cell_type": "code",
   "execution_count": null,
   "id": "8de662be-8035-40c0-8564-6864b8200efc",
   "metadata": {},
   "outputs": [],
   "source": [
    "%time spark.sql('SELECT sum(col1_fichier1) as sum_col1_fichier1 FROM fichier1 WHERE identifiant != 1').show()"
   ]
  },
  {
   "cell_type": "code",
   "execution_count": null,
   "id": "7c7e5a90-f288-4098-8e07-02c4d250aaee",
   "metadata": {},
   "outputs": [],
   "source": [
    "spark.stop()"
   ]
  }
 ],
 "metadata": {
  "kernelspec": {
   "display_name": "Python 3 (ipykernel)",
   "language": "python",
   "name": "python3"
  },
  "language_info": {
   "codemirror_mode": {
    "name": "ipython",
    "version": 3
   },
   "file_extension": ".py",
   "mimetype": "text/x-python",
   "name": "python",
   "nbconvert_exporter": "python",
   "pygments_lexer": "ipython3",
   "version": "3.10.13"
  }
 },
 "nbformat": 4,
 "nbformat_minor": 5
}
